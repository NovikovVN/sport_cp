{
 "cells": [
  {
   "cell_type": "markdown",
   "metadata": {},
   "source": [
    "## <center>Курсовой проект</center>\n",
    "# <center>Спортивный анализ данных. Платформа Kaggle</center>"
   ]
  },
  {
   "cell_type": "code",
   "execution_count": 1,
   "metadata": {},
   "outputs": [],
   "source": [
    "import numpy as np\n",
    "import pandas as pd\n",
    "import seaborn as sns\n",
    "import matplotlib.pyplot as plt\n",
    "\n",
    "import xgboost as xgb\n",
    "\n",
    "from scipy.stats.mstats import gmean\n",
    "from sklearn.metrics import roc_auc_score\n",
    "from sklearn.model_selection import KFold\n",
    "from sklearn.model_selection import train_test_split\n",
    "\n",
    "from sklearn.base import BaseEstimator, TransformerMixin\n",
    "from sklearn.utils.validation import check_is_fitted\n",
    "\n",
    "from pprint import pprint\n",
    "from tqdm import tqdm\n",
    "from typing import List, Optional, Tuple\n",
    "\n",
    "from bayes_opt import BayesianOptimization\n",
    "from catboost import cv, CatBoostClassifier, Pool\n",
    "from lightgbm import LGBMClassifier\n",
    "from IPython.display import clear_output, display\n",
    "from WOE_IV import data_vars\n",
    "\n",
    "import warnings\n",
    "warnings.filterwarnings(\"ignore\")\n",
    "\n",
    "%matplotlib inline\n",
    "sns.set()"
   ]
  },
  {
   "cell_type": "markdown",
   "metadata": {},
   "source": [
    "Функции с вебинара:"
   ]
  },
  {
   "cell_type": "code",
   "execution_count": 2,
   "metadata": {},
   "outputs": [],
   "source": [
    "def df_info(df):\n",
    "    df_display = pd.DataFrame(index=df.columns.copy())\n",
    "    df_display['isnulls'] = df.isnull().sum()\n",
    "    df_display['dtypes'] = df.dtypes\n",
    "    df_display['nuniques'] = df.nunique(dropna=False)\n",
    "    \n",
    "    rows, cols = df.shape\n",
    "    if cols == 1:\n",
    "        df_display.index.name = '{} rows'.format(rows)\n",
    "    else:\n",
    "        df_display.index.name = '{} rows x {} cols'.format(rows, cols)\n",
    "    \n",
    "    display(df_display)\n",
    "\n",
    "\n",
    "def get_input(data_path: str) -> pd.DataFrame:\n",
    "    \"\"\"\n",
    "    Считывание данных и вывод основной информации о наборе данных.\n",
    "\n",
    "    Parameters\n",
    "    ----------\n",
    "    data_path: str\n",
    "        Название файла.\n",
    "\n",
    "    Returns\n",
    "    -------\n",
    "    data: pandas.core.frame.DataFrame\n",
    "        Загруженный набор данных в pandas.DataFrame\n",
    "\n",
    "    \"\"\"\n",
    "    base_path = \"geekbrains-competitive-data-analysis\"\n",
    "    data = pd.read_csv(f\"{base_path}/{data_path}\")\n",
    "    data.columns = [col.lower() for col in data.columns]\n",
    "    # print(f\"{data_path}: shape = {data.shape[0]} rows, {data.shape[1]} cols\")\n",
    "\n",
    "    return data\n",
    "\n",
    "\n",
    "def create_client_profile_features(X: pd.DataFrame, copy: bool = True) -> pd.DataFrame:\n",
    "    \"\"\"\n",
    "    Создание признаков на основе профиля клиентов.\n",
    "\n",
    "    Parameters\n",
    "    ----------\n",
    "    X: pandas.core.frame.DataFrame\n",
    "        Матрица признаков с исходным профилем клиента.\n",
    "\n",
    "    copy: bool, optional, default = True\n",
    "        Флаг использования копии датафрейма X.\n",
    "        Опциональный параметр, по умолчанию, равен True.\n",
    "\n",
    "    Returns\n",
    "    -------\n",
    "    X_transformed: pandas.core.frame.DataFrame\n",
    "        Расширенная матрица признаков с профилем клиентов.\n",
    "\n",
    "    \"\"\"\n",
    "    if copy:\n",
    "        X = X.copy()\n",
    "        \n",
    "    df_info(X)\n",
    "\n",
    "    X[\"days_on_last_job\"] = X[\"days_on_last_job\"].replace(365243, np.nan)\n",
    "    bki_flags = [flag for flag in X.columns if \"amt_req_credit_bureau\" in flag]\n",
    "    X[\"bki_requests_count\"] = X[bki_flags].sum(axis=1)\n",
    "    X[\"bki_kurtosis\"] = X[bki_flags].kurtosis(axis=1)\n",
    "\n",
    "    X[\"external_scoring_prod\"] = X[\"external_scoring_rating_1\"] * X[\"external_scoring_rating_2\"] * X[\"external_scoring_rating_3\"]\n",
    "    X[\"external_scoring_weighted\"] = X.external_scoring_rating_1 * 2 + X.external_scoring_rating_2 * 1 + X.external_scoring_rating_3 * 3\n",
    "\n",
    "    for function_name in [\"min\", \"max\", \"mean\", \"nanmedian\", \"var\"]:\n",
    "        feature_name = \"external_scoring_rating_{}\".format(function_name)\n",
    "        X[feature_name] = eval(\"np.{}\".format(function_name))(\n",
    "            X[[\"external_scoring_rating_1\", \"external_scoring_rating_2\", \"external_scoring_rating_3\"]], axis=1\n",
    "        )\n",
    "\n",
    "    # Отношение между основными фин. показателями\n",
    "    X['ratio_credit_to_annuity'] = X['amount_credit'] / X['amount_annuity']\n",
    "    X[\"ratio_annuity_to_salary\"] = X['amount_annuity'] / X['total_salary']\n",
    "    X['ratio_credit_to_salary'] = X['amount_credit'] / X['total_salary']\n",
    "    #X[\"total_salary_net\"] = X[\"total_salary\"] - X[\"amount_annuity\"]\n",
    "\n",
    "    # Отношение фин. показателей к возрасту и временным фичам\n",
    "    X[\"ratio_annuity_to_age\"] = X[\"amount_annuity\"] / X[\"age\"]\n",
    "    X[\"ratio_credit_to_age\"] = X[\"amount_credit\"] / X[\"age\"]\n",
    "    X[\"ratio_salary_to_age\"] = X[\"total_salary\"] / X[\"age\"]\n",
    "    X[\"ratio_salary_to_experience\"] = X[\"total_salary\"] / X[\"days_on_last_job\"]\n",
    "    X[\"ratio_credit_to_experience\"] = X[\"amount_credit\"] / X[\"days_on_last_job\"]\n",
    "    X[\"ratio_annuity_to_experience\"] = X[\"amount_annuity\"] / X[\"days_on_last_job\"]\n",
    "\n",
    "    # Отношение врменных признаков\n",
    "    X[\"ratio_age_to_experience\"] = X[\"age\"] / X[\"days_on_last_job\"]\n",
    "    X[\"ratio_salary_to_region_population\"] = X[\"total_salary\"] * X[\"region_population\"]\n",
    "    X[\"ratio_car_to_experience\"] = X[\"own_car_age\"] / X[\"days_on_last_job\"]\n",
    "    X[\"ratio_car_to_age\"] = X[\"own_car_age\"] / X[\"age\"]\n",
    "\n",
    "    # Произведение фин. показателей кредита на вероятность дефолта\n",
    "    # Такая штука называется математическим ожиданием дефолта или ожидаемыми потерями\n",
    "    X[\"expected_total_loss_1\"] = X[\"external_scoring_rating_1\"] * X[\"amount_credit\"]\n",
    "    X[\"expected_total_loss_2\"] = X[\"external_scoring_rating_2\"] * X[\"amount_credit\"]\n",
    "    X[\"expected_total_loss_3\"] = X[\"external_scoring_rating_3\"] * X[\"amount_credit\"]\n",
    "    X[\"expected_monthly_loss_1\"] = X[\"external_scoring_rating_1\"] * X[\"amount_annuity\"]\n",
    "    X[\"expected_monthly_loss_2\"] = X[\"external_scoring_rating_2\"] * X[\"amount_annuity\"]\n",
    "    X[\"expected_monthly_loss_3\"] = X[\"external_scoring_rating_3\"] * X[\"amount_annuity\"]\n",
    "\n",
    "    return X"
   ]
  },
  {
   "cell_type": "markdown",
   "metadata": {},
   "source": [
    "Константы:"
   ]
  },
  {
   "cell_type": "code",
   "execution_count": 3,
   "metadata": {},
   "outputs": [],
   "source": [
    "EARLY_STOPPING_ROUNDS = 25\n",
    "N_ITERATIONS = 1000\n",
    "VERBOSE = 100\n",
    "N_SPLITS = 5\n",
    "SEED = 42"
   ]
  },
  {
   "cell_type": "markdown",
   "metadata": {},
   "source": [
    "Функция кросс-валидации модели бустинга:"
   ]
  },
  {
   "cell_type": "code",
   "execution_count": 4,
   "metadata": {},
   "outputs": [],
   "source": [
    "def boost_cross_validation(params, X, y, cv, categorical = None):\n",
    "    \"\"\"\n",
    "    Кросс-валидация для модели catbooost.\n",
    "\n",
    "    Parameters\n",
    "    ----------\n",
    "    params: dict\n",
    "        Словарь гиперпараметров модели.\n",
    "\n",
    "    X: pandas.core.frame.DataFrame\n",
    "        Матрица признако для обучения модели.\n",
    "\n",
    "    y: pandas.core.frame.Series\n",
    "        Вектор целевой переменной для обучения модели.\n",
    "\n",
    "    cv: KFold or StratifiedKFold generator.\n",
    "        Объект KFold / StratifiedKFold для определения\n",
    "        стратегии кросс-валидации модели.\n",
    "\n",
    "    categorical: str, optional, default = None\n",
    "        Список категориальных признаков.\n",
    "        Опциональный параметр, по умолчанию, не используется.\n",
    "\n",
    "    Returns\n",
    "    -------\n",
    "    estimators: list\n",
    "        Список с объектами обученной модели.\n",
    "\n",
    "    oof_preds: np.array\n",
    "        Вектор OOF-прогнозов.\n",
    "\n",
    "    \"\"\"\n",
    "    estimators, folds_scores = [], []\n",
    "    oof_preds = np.zeros(X.shape[0])\n",
    "\n",
    "    for fold, (train_idx, valid_idx) in enumerate(cv.split(X, y)):\n",
    "\n",
    "        x_train, x_valid = X.loc[train_idx], X.loc[valid_idx]\n",
    "        y_train, y_valid = y[train_idx], y[valid_idx]      \n",
    "      \n",
    "        if boost_model == 'XGB':\n",
    "            dtrain = xgb.DMatrix(x_train, y_train)\n",
    "            dvalid = xgb.DMatrix(x_valid, y_valid)\n",
    "        \n",
    "            model = xgb.train(\n",
    "                params=params,\n",
    "                dtrain=dtrain,\n",
    "                evals=[(dtrain, \"dtrain\"), (dvalid, \"dvalid\")],\n",
    "                early_stopping_rounds=EARLY_STOPPING_ROUNDS,\n",
    "                num_boost_round=N_ITERATIONS,\n",
    "                verbose_eval=VERBOSE,\n",
    "                maximize=True,\n",
    "            )\n",
    "\n",
    "        elif boost_model == 'LGBM':\n",
    "            model =LGBMClassifier(**params)\n",
    "            model.fit(\n",
    "                x_train, y_train,\n",
    "                eval_set=[(x_train, y_train), (x_valid, y_valid)],\n",
    "                verbose=VERBOSE,\n",
    "                categorical_feature=categorical\n",
    "            )\n",
    "        \n",
    "        elif boost_model == 'CB':\n",
    "            model = CatBoostClassifier(**params)\n",
    "            model.fit(\n",
    "                x_train, y_train,\n",
    "                cat_features=categorical,\n",
    "                eval_set=[(x_train, y_train), (x_valid, y_valid)],\n",
    "                verbose=VERBOSE                \n",
    "            )\n",
    "        \n",
    "        if boost_model == 'XGB':\n",
    "            oof_preds[valid_idx] = model.predict(dvalid)\n",
    "        else:\n",
    "            oof_preds[valid_idx] = model.predict_proba(x_valid)[:, 1]\n",
    "            \n",
    "        score = roc_auc_score(y_valid, oof_preds[valid_idx])\n",
    "        folds_scores.append(round(score, 5))\n",
    "        if hasattr(model, 'copy'):\n",
    "            model = model.copy()\n",
    "        estimators.append(model)\n",
    "        clear_output(wait=True)\n",
    "\n",
    "    print(f\"Score by each fold: {folds_scores}\")\n",
    "\n",
    "    return estimators, oof_preds"
   ]
  },
  {
   "cell_type": "markdown",
   "metadata": {},
   "source": [
    "Данные для обучения и теста:"
   ]
  },
  {
   "cell_type": "code",
   "execution_count": 5,
   "metadata": {},
   "outputs": [
    {
     "data": {
      "text/html": [
       "<div>\n",
       "<style scoped>\n",
       "    .dataframe tbody tr th:only-of-type {\n",
       "        vertical-align: middle;\n",
       "    }\n",
       "\n",
       "    .dataframe tbody tr th {\n",
       "        vertical-align: top;\n",
       "    }\n",
       "\n",
       "    .dataframe thead th {\n",
       "        text-align: right;\n",
       "    }\n",
       "</style>\n",
       "<table border=\"1\" class=\"dataframe\">\n",
       "  <thead>\n",
       "    <tr style=\"text-align: right;\">\n",
       "      <th></th>\n",
       "      <th>application_number</th>\n",
       "      <th>target</th>\n",
       "      <th>name_contract_type</th>\n",
       "    </tr>\n",
       "  </thead>\n",
       "  <tbody>\n",
       "    <tr>\n",
       "      <th>0</th>\n",
       "      <td>123687442</td>\n",
       "      <td>0.0</td>\n",
       "      <td>Cash</td>\n",
       "    </tr>\n",
       "    <tr>\n",
       "      <th>1</th>\n",
       "      <td>123597908</td>\n",
       "      <td>1.0</td>\n",
       "      <td>Cash</td>\n",
       "    </tr>\n",
       "  </tbody>\n",
       "</table>\n",
       "</div>"
      ],
      "text/plain": [
       "   application_number  target name_contract_type\n",
       "0           123687442     0.0               Cash\n",
       "1           123597908     1.0               Cash"
      ]
     },
     "execution_count": 5,
     "metadata": {},
     "output_type": "execute_result"
    }
   ],
   "source": [
    "train = get_input(\"train.csv\")\n",
    "test = get_input(\"test.csv\")\n",
    "\n",
    "data = pd.concat([train, test], axis=0, sort=False)\n",
    "data = data.reset_index(drop=True)\n",
    "data.head(n=2)"
   ]
  },
  {
   "cell_type": "markdown",
   "metadata": {},
   "source": [
    "Данные клиентов:"
   ]
  },
  {
   "cell_type": "code",
   "execution_count": 6,
   "metadata": {},
   "outputs": [
    {
     "data": {
      "text/html": [
       "<div>\n",
       "<style scoped>\n",
       "    .dataframe tbody tr th:only-of-type {\n",
       "        vertical-align: middle;\n",
       "    }\n",
       "\n",
       "    .dataframe tbody tr th {\n",
       "        vertical-align: top;\n",
       "    }\n",
       "\n",
       "    .dataframe thead th {\n",
       "        text-align: right;\n",
       "    }\n",
       "</style>\n",
       "<table border=\"1\" class=\"dataframe\">\n",
       "  <thead>\n",
       "    <tr style=\"text-align: right;\">\n",
       "      <th></th>\n",
       "      <th>isnulls</th>\n",
       "      <th>dtypes</th>\n",
       "      <th>nuniques</th>\n",
       "    </tr>\n",
       "    <tr>\n",
       "      <th>250000 rows x 24 cols</th>\n",
       "      <th></th>\n",
       "      <th></th>\n",
       "      <th></th>\n",
       "    </tr>\n",
       "  </thead>\n",
       "  <tbody>\n",
       "    <tr>\n",
       "      <th>application_number</th>\n",
       "      <td>0</td>\n",
       "      <td>int64</td>\n",
       "      <td>250000</td>\n",
       "    </tr>\n",
       "    <tr>\n",
       "      <th>gender</th>\n",
       "      <td>0</td>\n",
       "      <td>object</td>\n",
       "      <td>3</td>\n",
       "    </tr>\n",
       "    <tr>\n",
       "      <th>childrens</th>\n",
       "      <td>0</td>\n",
       "      <td>int64</td>\n",
       "      <td>15</td>\n",
       "    </tr>\n",
       "    <tr>\n",
       "      <th>total_salary</th>\n",
       "      <td>0</td>\n",
       "      <td>float64</td>\n",
       "      <td>2198</td>\n",
       "    </tr>\n",
       "    <tr>\n",
       "      <th>amount_credit</th>\n",
       "      <td>0</td>\n",
       "      <td>float64</td>\n",
       "      <td>5295</td>\n",
       "    </tr>\n",
       "    <tr>\n",
       "      <th>amount_annuity</th>\n",
       "      <td>11</td>\n",
       "      <td>float64</td>\n",
       "      <td>13152</td>\n",
       "    </tr>\n",
       "    <tr>\n",
       "      <th>education_level</th>\n",
       "      <td>0</td>\n",
       "      <td>object</td>\n",
       "      <td>5</td>\n",
       "    </tr>\n",
       "    <tr>\n",
       "      <th>family_status</th>\n",
       "      <td>0</td>\n",
       "      <td>object</td>\n",
       "      <td>6</td>\n",
       "    </tr>\n",
       "    <tr>\n",
       "      <th>region_population</th>\n",
       "      <td>0</td>\n",
       "      <td>float64</td>\n",
       "      <td>81</td>\n",
       "    </tr>\n",
       "    <tr>\n",
       "      <th>age</th>\n",
       "      <td>0</td>\n",
       "      <td>int64</td>\n",
       "      <td>17418</td>\n",
       "    </tr>\n",
       "    <tr>\n",
       "      <th>days_on_last_job</th>\n",
       "      <td>0</td>\n",
       "      <td>int64</td>\n",
       "      <td>12118</td>\n",
       "    </tr>\n",
       "    <tr>\n",
       "      <th>own_car_age</th>\n",
       "      <td>164959</td>\n",
       "      <td>float64</td>\n",
       "      <td>59</td>\n",
       "    </tr>\n",
       "    <tr>\n",
       "      <th>flag_phone</th>\n",
       "      <td>0</td>\n",
       "      <td>int64</td>\n",
       "      <td>2</td>\n",
       "    </tr>\n",
       "    <tr>\n",
       "      <th>flag_email</th>\n",
       "      <td>0</td>\n",
       "      <td>int64</td>\n",
       "      <td>2</td>\n",
       "    </tr>\n",
       "    <tr>\n",
       "      <th>family_size</th>\n",
       "      <td>2</td>\n",
       "      <td>float64</td>\n",
       "      <td>18</td>\n",
       "    </tr>\n",
       "    <tr>\n",
       "      <th>external_scoring_rating_1</th>\n",
       "      <td>140879</td>\n",
       "      <td>float64</td>\n",
       "      <td>95901</td>\n",
       "    </tr>\n",
       "    <tr>\n",
       "      <th>external_scoring_rating_2</th>\n",
       "      <td>532</td>\n",
       "      <td>float64</td>\n",
       "      <td>109967</td>\n",
       "    </tr>\n",
       "    <tr>\n",
       "      <th>external_scoring_rating_3</th>\n",
       "      <td>49538</td>\n",
       "      <td>float64</td>\n",
       "      <td>809</td>\n",
       "    </tr>\n",
       "    <tr>\n",
       "      <th>amt_req_credit_bureau_hour</th>\n",
       "      <td>33707</td>\n",
       "      <td>float64</td>\n",
       "      <td>6</td>\n",
       "    </tr>\n",
       "    <tr>\n",
       "      <th>amt_req_credit_bureau_day</th>\n",
       "      <td>33707</td>\n",
       "      <td>float64</td>\n",
       "      <td>9</td>\n",
       "    </tr>\n",
       "    <tr>\n",
       "      <th>amt_req_credit_bureau_week</th>\n",
       "      <td>33707</td>\n",
       "      <td>float64</td>\n",
       "      <td>10</td>\n",
       "    </tr>\n",
       "    <tr>\n",
       "      <th>amt_req_credit_bureau_mon</th>\n",
       "      <td>33707</td>\n",
       "      <td>float64</td>\n",
       "      <td>25</td>\n",
       "    </tr>\n",
       "    <tr>\n",
       "      <th>amt_req_credit_bureau_qrt</th>\n",
       "      <td>33707</td>\n",
       "      <td>float64</td>\n",
       "      <td>12</td>\n",
       "    </tr>\n",
       "    <tr>\n",
       "      <th>amt_req_credit_bureau_year</th>\n",
       "      <td>33707</td>\n",
       "      <td>float64</td>\n",
       "      <td>26</td>\n",
       "    </tr>\n",
       "  </tbody>\n",
       "</table>\n",
       "</div>"
      ],
      "text/plain": [
       "                            isnulls   dtypes  nuniques\n",
       "250000 rows x 24 cols                                 \n",
       "application_number                0    int64    250000\n",
       "gender                            0   object         3\n",
       "childrens                         0    int64        15\n",
       "total_salary                      0  float64      2198\n",
       "amount_credit                     0  float64      5295\n",
       "amount_annuity                   11  float64     13152\n",
       "education_level                   0   object         5\n",
       "family_status                     0   object         6\n",
       "region_population                 0  float64        81\n",
       "age                               0    int64     17418\n",
       "days_on_last_job                  0    int64     12118\n",
       "own_car_age                  164959  float64        59\n",
       "flag_phone                        0    int64         2\n",
       "flag_email                        0    int64         2\n",
       "family_size                       2  float64        18\n",
       "external_scoring_rating_1    140879  float64     95901\n",
       "external_scoring_rating_2       532  float64    109967\n",
       "external_scoring_rating_3     49538  float64       809\n",
       "amt_req_credit_bureau_hour    33707  float64         6\n",
       "amt_req_credit_bureau_day     33707  float64         9\n",
       "amt_req_credit_bureau_week    33707  float64        10\n",
       "amt_req_credit_bureau_mon     33707  float64        25\n",
       "amt_req_credit_bureau_qrt     33707  float64        12\n",
       "amt_req_credit_bureau_year    33707  float64        26"
      ]
     },
     "metadata": {},
     "output_type": "display_data"
    }
   ],
   "source": [
    "client_profile = get_input(\"client_profile.csv\")\n",
    "client_profile = create_client_profile_features(client_profile)"
   ]
  },
  {
   "cell_type": "code",
   "execution_count": 7,
   "metadata": {},
   "outputs": [
    {
     "data": {
      "text/html": [
       "<div>\n",
       "<style scoped>\n",
       "    .dataframe tbody tr th:only-of-type {\n",
       "        vertical-align: middle;\n",
       "    }\n",
       "\n",
       "    .dataframe tbody tr th {\n",
       "        vertical-align: top;\n",
       "    }\n",
       "\n",
       "    .dataframe thead th {\n",
       "        text-align: right;\n",
       "    }\n",
       "</style>\n",
       "<table border=\"1\" class=\"dataframe\">\n",
       "  <thead>\n",
       "    <tr style=\"text-align: right;\">\n",
       "      <th></th>\n",
       "      <th>application_number</th>\n",
       "      <th>gender</th>\n",
       "      <th>childrens</th>\n",
       "      <th>total_salary</th>\n",
       "      <th>amount_credit</th>\n",
       "      <th>amount_annuity</th>\n",
       "      <th>education_level</th>\n",
       "      <th>family_status</th>\n",
       "      <th>region_population</th>\n",
       "      <th>age</th>\n",
       "      <th>...</th>\n",
       "      <th>ratio_age_to_experience</th>\n",
       "      <th>ratio_salary_to_region_population</th>\n",
       "      <th>ratio_car_to_experience</th>\n",
       "      <th>ratio_car_to_age</th>\n",
       "      <th>expected_total_loss_1</th>\n",
       "      <th>expected_total_loss_2</th>\n",
       "      <th>expected_total_loss_3</th>\n",
       "      <th>expected_monthly_loss_1</th>\n",
       "      <th>expected_monthly_loss_2</th>\n",
       "      <th>expected_monthly_loss_3</th>\n",
       "    </tr>\n",
       "  </thead>\n",
       "  <tbody>\n",
       "    <tr>\n",
       "      <th>0</th>\n",
       "      <td>123666076</td>\n",
       "      <td>F</td>\n",
       "      <td>0</td>\n",
       "      <td>157500.0</td>\n",
       "      <td>270000.0</td>\n",
       "      <td>13500.0</td>\n",
       "      <td>Incomplete higher</td>\n",
       "      <td>Civil marriage</td>\n",
       "      <td>0.008068</td>\n",
       "      <td>8560</td>\n",
       "      <td>...</td>\n",
       "      <td>5.526146</td>\n",
       "      <td>1270.71</td>\n",
       "      <td>NaN</td>\n",
       "      <td>NaN</td>\n",
       "      <td>88957.124333</td>\n",
       "      <td>63804.966560</td>\n",
       "      <td>183213.275945</td>\n",
       "      <td>4447.856217</td>\n",
       "      <td>3190.248328</td>\n",
       "      <td>9160.663797</td>\n",
       "    </tr>\n",
       "    <tr>\n",
       "      <th>1</th>\n",
       "      <td>123423688</td>\n",
       "      <td>F</td>\n",
       "      <td>0</td>\n",
       "      <td>270000.0</td>\n",
       "      <td>536917.5</td>\n",
       "      <td>28467.0</td>\n",
       "      <td>Secondary / secondary special</td>\n",
       "      <td>Married</td>\n",
       "      <td>0.020246</td>\n",
       "      <td>23187</td>\n",
       "      <td>...</td>\n",
       "      <td>NaN</td>\n",
       "      <td>5466.42</td>\n",
       "      <td>NaN</td>\n",
       "      <td>NaN</td>\n",
       "      <td>NaN</td>\n",
       "      <td>237475.743779</td>\n",
       "      <td>431008.094056</td>\n",
       "      <td>NaN</td>\n",
       "      <td>12590.802122</td>\n",
       "      <td>22851.755462</td>\n",
       "    </tr>\n",
       "  </tbody>\n",
       "</table>\n",
       "<p>2 rows × 52 columns</p>\n",
       "</div>"
      ],
      "text/plain": [
       "   application_number gender  childrens  total_salary  amount_credit  \\\n",
       "0           123666076      F          0      157500.0       270000.0   \n",
       "1           123423688      F          0      270000.0       536917.5   \n",
       "\n",
       "   amount_annuity                education_level   family_status  \\\n",
       "0         13500.0              Incomplete higher  Civil marriage   \n",
       "1         28467.0  Secondary / secondary special         Married   \n",
       "\n",
       "   region_population    age  ...  ratio_age_to_experience  \\\n",
       "0           0.008068   8560  ...                 5.526146   \n",
       "1           0.020246  23187  ...                      NaN   \n",
       "\n",
       "   ratio_salary_to_region_population  ratio_car_to_experience  \\\n",
       "0                            1270.71                      NaN   \n",
       "1                            5466.42                      NaN   \n",
       "\n",
       "   ratio_car_to_age  expected_total_loss_1  expected_total_loss_2  \\\n",
       "0               NaN           88957.124333           63804.966560   \n",
       "1               NaN                    NaN          237475.743779   \n",
       "\n",
       "   expected_total_loss_3  expected_monthly_loss_1  expected_monthly_loss_2  \\\n",
       "0          183213.275945              4447.856217              3190.248328   \n",
       "1          431008.094056                      NaN             12590.802122   \n",
       "\n",
       "   expected_monthly_loss_3  \n",
       "0              9160.663797  \n",
       "1             22851.755462  \n",
       "\n",
       "[2 rows x 52 columns]"
      ]
     },
     "execution_count": 7,
     "metadata": {},
     "output_type": "execute_result"
    }
   ],
   "source": [
    "client_profile.head(n=2)"
   ]
  },
  {
   "cell_type": "markdown",
   "metadata": {},
   "source": [
    "Склеиваем данные:"
   ]
  },
  {
   "cell_type": "code",
   "execution_count": 8,
   "metadata": {},
   "outputs": [],
   "source": [
    "data = data.merge(\n",
    "    client_profile,\n",
    "    how=\"left\",\n",
    "    on=\"application_number\"\n",
    ")"
   ]
  },
  {
   "cell_type": "code",
   "execution_count": 9,
   "metadata": {},
   "outputs": [],
   "source": [
    "data = data.replace(np.inf, np.nan)\n",
    "data = data.replace(-np.inf, np.nan)"
   ]
  },
  {
   "cell_type": "markdown",
   "metadata": {},
   "source": [
    "Определяем списки признаков:\n",
    " - индексовый и целевой;\n",
    " - категориальные;\n",
    " - числовые:"
   ]
  },
  {
   "cell_type": "code",
   "execution_count": 10,
   "metadata": {},
   "outputs": [],
   "source": [
    "features_to_drop = [\"application_number\", \"target\"]\n",
    "cat_features = data.dtypes[data.dtypes == \"object\"].index.tolist()\n",
    "num_features = list(set(data.columns.drop(features_to_drop)) - set(cat_features))"
   ]
  },
  {
   "cell_type": "markdown",
   "metadata": {},
   "source": [
    "Категориальные кодируем с помощью Frequency Encoding:"
   ]
  },
  {
   "cell_type": "code",
   "execution_count": 11,
   "metadata": {},
   "outputs": [],
   "source": [
    "for feature in cat_features:\n",
    "    freq_encoder = data[feature].value_counts(normalize=True, dropna=False)\n",
    "    data[feature] = data[feature].map(freq_encoder)"
   ]
  },
  {
   "cell_type": "markdown",
   "metadata": {},
   "source": [
    "Заполняем пропуски в числовых признаках нехарактерным значением:"
   ]
  },
  {
   "cell_type": "code",
   "execution_count": 12,
   "metadata": {},
   "outputs": [],
   "source": [
    "data[num_features] = data[num_features].fillna(-9999)"
   ]
  },
  {
   "cell_type": "markdown",
   "metadata": {},
   "source": [
    "Делим данные на обучающую и тестовые выборки, а из обучающей выделяем валидационную:"
   ]
  },
  {
   "cell_type": "code",
   "execution_count": 13,
   "metadata": {},
   "outputs": [],
   "source": [
    "mask = data[\"target\"].isnull()\n",
    "\n",
    "train, test = data.loc[~mask], data.loc[mask]\n",
    "\n",
    "X = train.drop(features_to_drop, axis=1)\n",
    "y = train[\"target\"]\n",
    "\n",
    "X_test = test.drop(features_to_drop, axis=1)"
   ]
  },
  {
   "cell_type": "code",
   "execution_count": 14,
   "metadata": {},
   "outputs": [],
   "source": [
    "X_train, X_valid, y_train, y_valid = train_test_split(\n",
    "    X, y,\n",
    "    test_size=0.3,\n",
    "    random_state=SEED\n",
    ")"
   ]
  },
  {
   "cell_type": "markdown",
   "metadata": {},
   "source": [
    "## Анализ данныхдля обучения и теста"
   ]
  },
  {
   "cell_type": "markdown",
   "metadata": {},
   "source": [
    "### Population Stability Index"
   ]
  },
  {
   "cell_type": "code",
   "execution_count": 15,
   "metadata": {},
   "outputs": [],
   "source": [
    "class PSI(BaseEstimator, TransformerMixin):\n",
    "    \"\"\"\n",
    "    Вычисление PSI и отбор признаков на их основе.\n",
    "\n",
    "    Parameters\n",
    "    ----------\n",
    "    threshold: float\n",
    "        Порог для отбора переменных по PSI.\n",
    "        Если PSI для переменной выше порога - переменная макрируется\n",
    "        0 (не использовать для дальнейшего анализа), если ниже\n",
    "        порога - маркируется 1 (использовать для дальнейшего анализа).\n",
    "\n",
    "    categorical_features: List[str], optional, default = None\n",
    "        Список категориальных признаков для анализа.\n",
    "        Опциональный параметр, по умолчанию, не используется, т.е.\n",
    "        категориальные признаки отсутствуют.\n",
    "\n",
    "    n_bins: int, optional, default = 20\n",
    "        Количество бинов, на которые разбивается выборка.\n",
    "\n",
    "    min_value: float, optional, default = 0.005\n",
    "        Значение которое используется, если рассчитанный psi = 0.\n",
    "\n",
    "    bin_type: string, optional, default = \"quanitles\"\n",
    "        Способ разбиения на бины: \"quantiles\" or \"bins\".\n",
    "        При выборе \"quantiles\" - выборка будет разбита на n_bins\n",
    "        квантилей, при выборке \"bins\" - выборка будет разбита на\n",
    "        n_bins бакетов с равным шагом между бакетами.\n",
    "        Иные значения приводят к возникновению ValueError.\n",
    "\n",
    "    Attributes\n",
    "    ----------\n",
    "    scores_: Dict[str, float]\n",
    "        Словарь со значениями PSI,\n",
    "        ключ словаря - название признака, значение - PSI-score.\n",
    "\n",
    "    \"\"\"\n",
    "    def __init__(self,\n",
    "                 threshold: float,\n",
    "                 categorical_features: Optional[List[str]] = None,\n",
    "                 bin_type: str = \"quantiles\",\n",
    "                 min_value: float = 0.005,\n",
    "                 n_bins: int = 20):\n",
    "\n",
    "        self.threshold = threshold\n",
    "        self.categorical_features = categorical_features\n",
    "        self.min_value = min_value\n",
    "        self.n_bins = n_bins\n",
    "        if bin_type in [\"quantiles\", \"bins\"]:\n",
    "            self.bin_type = bin_type\n",
    "        else:\n",
    "            raise ValueError(\n",
    "                \"Incorrect bin_type value. Expected 'quantiles' or 'bins', \"\n",
    "                f\"but {bin_type} is transferred.\"\n",
    "            )\n",
    "        self.scores = {}\n",
    "\n",
    "    def calculate_bins(self, data: pd.Series) -> np.array:\n",
    "        \"\"\"\n",
    "        Вычисление границ бинов для разбиения выборки.\n",
    "\n",
    "        Parameters\n",
    "        ----------\n",
    "        data: pandas.Series, shape = [n_samples, ]\n",
    "            наблюдения из train-выборки.\n",
    "\n",
    "        Returns\n",
    "        -------\n",
    "        bins: numpy.array, shape = [self.n_bins + 1]\n",
    "            Список с границами бинов.\n",
    "\n",
    "        \"\"\"\n",
    "        if self.bin_type == \"quantiles\":\n",
    "            bins = np.linspace(0, 100, self.n_bins + 1)\n",
    "            bins = [np.nanpercentile(data, x) for x in bins]\n",
    "\n",
    "        else:\n",
    "            bins = np.linspace(data.min(), data.max(), self.n_bins + 1)\n",
    "\n",
    "        return np.unique(bins)\n",
    "\n",
    "    def calculate_psi_in_bin(self, expected_score, actual_score) -> float:\n",
    "        \"\"\"\n",
    "        Вычисление значения psi для одного бакета.\n",
    "\n",
    "        Осуществляется проверка на равенство нулю expected_score и\n",
    "        actual_score: если один из аргументов равен нулю, то его\n",
    "        значение заменяется на self.min_value.\n",
    "\n",
    "        Parameters\n",
    "        ----------\n",
    "        expected_score: float\n",
    "            Ожидаемое значение.\n",
    "\n",
    "        actual_score: float\n",
    "            Наблюдаемое значение.\n",
    "\n",
    "        Returns\n",
    "        -------\n",
    "        value: float\n",
    "            Значение psi в бине.\n",
    "\n",
    "        \"\"\"\n",
    "        if expected_score == 0:\n",
    "            expected_score = self.min_value\n",
    "        if actual_score == 0:\n",
    "            actual_score = self.min_value\n",
    "\n",
    "        value = (expected_score - actual_score)\n",
    "        value = value * np.log(expected_score / actual_score)\n",
    "\n",
    "        return value\n",
    "\n",
    "    def calculate_psi(self, expected: pd.Series, actual: pd.Series, bins) -> float:\n",
    "        \"\"\"\n",
    "        Расчет PSI для одной переменной.\n",
    "\n",
    "        Parameters\n",
    "        ----------\n",
    "        expected: pandas.Series, shape = [n_samples_e, ]\n",
    "            Наблюдения из train-выборки.\n",
    "\n",
    "        actual: pandas.Series, shape = [n_samples_o, ]\n",
    "            Наблюдения из test-выборки.\n",
    "\n",
    "        bins: pandas.Series, shape = [self.n_bins, ]\n",
    "            Бины для расчета PSI.\n",
    "\n",
    "        Returns\n",
    "        -------\n",
    "        psi_score: float\n",
    "            PSI-значение для данной пары выборок.\n",
    "\n",
    "        \"\"\"\n",
    "        expected_score = np.histogram(expected.fillna(-9999), bins)[0]\n",
    "        expected_score = expected_score / expected.shape[0]\n",
    "\n",
    "        actual_score = np.histogram(actual.fillna(-9999), bins)[0]\n",
    "        actual_score = actual_score / actual.shape[0]\n",
    "\n",
    "        psi_score = np.sum(\n",
    "            [self.calculate_psi_in_bin(exp_score, act_score) \\\n",
    "             for exp_score, act_score in zip(expected_score, actual_score)]\n",
    "        )\n",
    "\n",
    "        return psi_score\n",
    "\n",
    "    def calculate_numeric_psi(self, expected: pd.Series, actual: pd.Series) -> float:\n",
    "        \"\"\"\n",
    "        Вычисление PSI для числовой переменной.\n",
    "\n",
    "        Parameters\n",
    "        ----------\n",
    "        expected: pandas.Series, shape = [n_samples_e, ]\n",
    "            Наблюдения из train-выборки.\n",
    "\n",
    "        actual: pandas.Series, shape = [n_samples_o, ]\n",
    "            Наблюдения из test-выборки.\n",
    "\n",
    "        Returns\n",
    "        -------\n",
    "        psi_score: float\n",
    "            PSI-значение для данной пары выборок.\n",
    "\n",
    "        \"\"\"\n",
    "        bins = self.calculate_bins(expected)\n",
    "        psi_score = self.calculate_psi(expected, actual, bins)\n",
    "        return psi_score\n",
    "\n",
    "    def calculate_categorical_psi(self, expected: pd.Series, actual: pd.Series) -> float:\n",
    "        \"\"\"\n",
    "        Вычисление PSI для категориальной переменной.\n",
    "        PSI рассчитывается для каждого уникального значения категории.\n",
    "\n",
    "        Parameters\n",
    "        ----------\n",
    "        expected: pandas.Series, shape = [n_samples_e, ]\n",
    "            Наблюдения из train-выборки.\n",
    "\n",
    "        actual: pandas.Series, shape = [n_samples_o, ]\n",
    "            Наблюдения из test-выборки.\n",
    "\n",
    "        Returns\n",
    "        -------\n",
    "        psi_score: float\n",
    "            PSI-значение для данной пары выборок.\n",
    "\n",
    "        \"\"\"\n",
    "        bins = np.unique(expected).tolist()\n",
    "        psi_score = self.calculate_psi(expected, actual, bins)\n",
    "        return psi_score\n",
    "\n",
    "    def fit(self, X, y=None):\n",
    "        \"\"\"\n",
    "        Вычисление PSI-значения для всех признаков.\n",
    "\n",
    "        Parameters\n",
    "        ----------\n",
    "        X: pandas.DataFrame, shape = [n_samples, n_features]\n",
    "            Матрица признаков для обучения.\n",
    "\n",
    "        y: pandas.DataFrame, shape = [n_samples, n_features]\n",
    "            Матрица признаков для тестирования.\n",
    "\n",
    "        Returns\n",
    "        -------\n",
    "        self\n",
    "        \"\"\"\n",
    "        missed_columns = list(set(X.columns) - set(y.columns))\n",
    "\n",
    "        if missed_columns:\n",
    "            raise MissedColumnError(\n",
    "                f\"Missed {list(missed_columns)} columns in data.\")\n",
    "\n",
    "        if self.categorical_features:\n",
    "            numeric_features = list(\n",
    "                set(X.columns) - set(self.categorical_features)\n",
    "            )\n",
    "            for feature in self.categorical_features:\n",
    "                self.scores[feature] = self.calculate_categorical_psi(\n",
    "                    X[feature], y[feature]\n",
    "                )\n",
    "        else:\n",
    "            numeric_features = X.columns\n",
    "\n",
    "        for feature in tqdm(numeric_features):\n",
    "            self.scores[feature] = self.calculate_numeric_psi(\n",
    "                X[feature], y[feature]\n",
    "            )\n",
    "        return self\n",
    "\n",
    "    def transform(self, X, y=None) -> pd.DataFrame:\n",
    "        \"\"\"\n",
    "        Отбор переменных по self.threshold.\n",
    "        Если PSI-score для переменной выше порога, то переменная\n",
    "        помечается 0 (не использовать для дальнейшего анализа), если ниже\n",
    "        порога - маркируется 1 (использовать для дальнейшего анализа).\n",
    "\n",
    "        Parameters\n",
    "        ----------\n",
    "        data: pandas.DataFrame, shape = [n_samples, n_features]\n",
    "            Матрица признаков для обучения.\n",
    "\n",
    "        target: pandas.DataFrame, shape = [n_samples, n_features]\n",
    "            Матрица признаков для тестирования.\n",
    "\n",
    "        Returns\n",
    "        -------\n",
    "        scores: pandas.DataFrame, shape = [n_features, 3]\n",
    "            Датафрейм с PSI-анализом переменных.\n",
    "\n",
    "        \"\"\"\n",
    "        check_is_fitted(self, \"scores\")\n",
    "        scores = pd.Series(self.scores)\n",
    "        scores = pd.DataFrame({\"Variable\": scores.index, \"PSI\": scores.values})\n",
    "        scores[\"Selected\"] = np.where(scores.PSI < self.threshold, 1, 0)\n",
    "        scores = scores.sort_values(by=\"PSI\")\n",
    "\n",
    "        mask = scores[\"Selected\"] == 1\n",
    "        self.used_features = scores.loc[mask, \"Variable\"].tolist()\n",
    "\n",
    "        return scores.reset_index(drop=True)"
   ]
  },
  {
   "cell_type": "code",
   "execution_count": 16,
   "metadata": {},
   "outputs": [],
   "source": [
    "psi = PSI(threshold=0.01)"
   ]
  },
  {
   "cell_type": "code",
   "execution_count": 17,
   "metadata": {},
   "outputs": [
    {
     "name": "stderr",
     "output_type": "stream",
     "text": [
      "100%|██████████████████████████████████████████| 52/52 [00:04<00:00, 12.43it/s]\n"
     ]
    }
   ],
   "source": [
    "psi_scores = psi.fit_transform(\n",
    "    X=X.select_dtypes(exclude=['object']),\n",
    "    y=X_test.select_dtypes(exclude=['object'])\n",
    ")"
   ]
  },
  {
   "cell_type": "code",
   "execution_count": 18,
   "metadata": {},
   "outputs": [],
   "source": [
    "psi_result = psi_scores[psi_scores['Selected'] == 0]\n",
    "\n",
    "try:\n",
    "    assert psi_result.empty\n",
    "except AssertionError:\n",
    "    display(psi_result)"
   ]
  },
  {
   "cell_type": "markdown",
   "metadata": {},
   "source": [
    "Отобранными по порогу 0.01 оказались все признаки - т.е. значимых отличий в их распределениях из данных для обучения и теста не выявлено:"
   ]
  },
  {
   "cell_type": "markdown",
   "metadata": {},
   "source": [
    "### Adversarial Validation"
   ]
  },
  {
   "cell_type": "code",
   "execution_count": 19,
   "metadata": {},
   "outputs": [],
   "source": [
    "X_adv = pd.concat([\n",
    "    X.select_dtypes(exclude=['object']),\n",
    "    X_test.select_dtypes(exclude=['object'])\n",
    "])\n",
    "X_adv = X_adv.reset_index(drop=True)\n",
    "\n",
    "y_adv = np.hstack((\n",
    "    np.ones(train.shape[0]),\n",
    "    np.zeros(test.shape[0])\n",
    "))\n",
    "\n",
    "assert X_adv.shape[0] == y_adv.shape[0]"
   ]
  },
  {
   "cell_type": "code",
   "execution_count": 20,
   "metadata": {},
   "outputs": [
    {
     "name": "stdout",
     "output_type": "stream",
     "text": [
      "0:\ttest: 0.4996326\tbest: 0.4996326 (0)\ttotal: 1.56s\tremaining: 1m 16s\n",
      "10:\ttest: 0.5002633\tbest: 0.5005477 (9)\ttotal: 25.3s\tremaining: 1m 29s\n",
      "20:\ttest: 0.4992443\tbest: 0.5005731 (11)\ttotal: 35.3s\tremaining: 48.7s\n",
      "30:\ttest: 0.4981973\tbest: 0.5005731 (11)\ttotal: 46.7s\tremaining: 28.6s\n",
      "40:\ttest: 0.4983168\tbest: 0.5005731 (11)\ttotal: 1m\tremaining: 13.2s\n",
      "49:\ttest: 0.4982127\tbest: 0.5005731 (11)\ttotal: 1m 14s\tremaining: 0us\n"
     ]
    }
   ],
   "source": [
    "cv_dataset = Pool(\n",
    "    data=X_adv,\n",
    "    label=y_adv\n",
    ")\n",
    "\n",
    "params = {\"n_estimators\": 50,\n",
    "          \"depth\": 4,\n",
    "          \"loss_function\": \"Logloss\",\n",
    "          'eval_metric': 'AUC', \n",
    "          'random_state': 42,\n",
    "          \"verbose\": 10}\n",
    "\n",
    "adv_scores = cv(\n",
    "    cv_dataset,\n",
    "    params,\n",
    "    fold_count=3, \n",
    "    shuffle=True,\n",
    "    plot=False\n",
    ")"
   ]
  },
  {
   "cell_type": "markdown",
   "metadata": {},
   "source": [
    "Среднее значение метрики ROC AUC на тестовых подвыборках равно 0.5 - при достаточно малом стандартном отклонении:"
   ]
  },
  {
   "cell_type": "code",
   "execution_count": 21,
   "metadata": {},
   "outputs": [
    {
     "data": {
      "text/plain": [
       "test-AUC-mean    0.499049\n",
       "test-AUC-std     0.001464\n",
       "dtype: float64"
      ]
     },
     "execution_count": 21,
     "metadata": {},
     "output_type": "execute_result"
    }
   ],
   "source": [
    "adv_scores[[column for column in adv_scores.columns if 'AUC' in column]].mean()"
   ]
  },
  {
   "cell_type": "markdown",
   "metadata": {},
   "source": [
    "Классификатор не нашел никаких отличий между данными для обучения и данными для теста - поэтому его работа сравнима с работой случайного классификатора.<br>Таким образом, распределения признаков в данных для обучения и теста согласно Adversarial Validation идентичны."
   ]
  },
  {
   "cell_type": "markdown",
   "metadata": {},
   "source": [
    "### WoE (Weight of Evidence) and IV (Information Value)"
   ]
  },
  {
   "cell_type": "code",
   "execution_count": 22,
   "metadata": {},
   "outputs": [],
   "source": [
    "iv_df, iv = data_vars(X, y)\n",
    "iv.sort_values('IV', ascending=False, inplace=True)"
   ]
  },
  {
   "cell_type": "markdown",
   "metadata": {},
   "source": [
    "Признаки, у которых Information Value выше порога 0.01: "
   ]
  },
  {
   "cell_type": "code",
   "execution_count": 23,
   "metadata": {},
   "outputs": [
    {
     "data": {
      "image/png": "[encoded data removed]",
      "text/plain": [
       "<Figure size 504x360 with 1 Axes>"
      ]
     },
     "metadata": {
      "needs_background": "light"
     },
     "output_type": "display_data"
    }
   ],
   "source": [
    "iv = iv[iv['IV'].round(2) > 0.01]\n",
    "\n",
    "plt.figure(figsize=(7, 5))\n",
    "sns.barplot(x=iv['IV'], y=iv['VAR_NAME'])\n",
    "plt.title('Information Value')\n",
    "plt.xlabel(''); plt.ylabel('')\n",
    "plt.show()"
   ]
  },
  {
   "cell_type": "markdown",
   "metadata": {},
   "source": [
    "## LightGBM"
   ]
  },
  {
   "cell_type": "markdown",
   "metadata": {},
   "source": [
    "### Служебные инструменты"
   ]
  },
  {
   "cell_type": "markdown",
   "metadata": {},
   "source": [
    "Объект KFold:"
   ]
  },
  {
   "cell_type": "code",
   "execution_count": 24,
   "metadata": {},
   "outputs": [],
   "source": [
    "cv = KFold(n_splits=N_SPLITS, random_state=SEED, shuffle=True)"
   ]
  },
  {
   "cell_type": "markdown",
   "metadata": {},
   "source": [
    "Функция обновления словаря параметров найденными оптимальными значениями (и их вывод):"
   ]
  },
  {
   "cell_type": "code",
   "execution_count": 25,
   "metadata": {},
   "outputs": [],
   "source": [
    "def update_params(params_search):\n",
    "    optimal_params = params_search.max\n",
    "    pprint(optimal_params)\n",
    "    \n",
    "    for k, v in optimal_params['params'].items():\n",
    "        params[k] = v    \n",
    "    params['max_depth'] = int(round(params['max_depth']))\n",
    "    if 'min_child_weights' in params:\n",
    "        params['min_child_weights'] = int(round(params['min_child_weights']))"
   ]
  },
  {
   "cell_type": "markdown",
   "metadata": {},
   "source": [
    "Функция получения предсказаний от модели и их корреляционный анализ:"
   ]
  },
  {
   "cell_type": "code",
   "execution_count": 26,
   "metadata": {},
   "outputs": [],
   "source": [
    "def calc_and_analyze_preds(X, y, X_test, models):\n",
    "    model_names = [f'model_{i}' for i in range(1, N_SPLITS+1)]\n",
    "    \n",
    "    train_preds = pd.DataFrame(columns=model_names)\n",
    "    test_preds = pd.DataFrame(columns=model_names)\n",
    "    \n",
    "    for i, model in enumerate(models, 1):\n",
    "        model_name = f'model_{i}'\n",
    "        if boost_model == 'XGB':\n",
    "            train_preds[model_name] = model.predict(xgb.DMatrix(X))\n",
    "            test_preds[model_name] = model.predict(xgb.DMatrix(X_test))\n",
    "        else:\n",
    "            train_preds[model_name] = model.predict_proba(X)[:, 1]\n",
    "            test_preds[model_name] = model.predict_proba(X_test)[:, 1]\n",
    "    \n",
    "    train_preds['target'] = y\n",
    "    \n",
    "    comb_preds = pd.DataFrame(y, columns=['target'])\n",
    "    comb_preds['mean'] = train_preds[model_names].mean(axis=1)\n",
    "    comb_preds['gmean'] = train_preds[model_names].apply(gmean, axis=1)\n",
    "    \n",
    "    fig, axes = plt.subplots(nrows=2, ncols=2, sharey=False, figsize=(14, 10))\n",
    "    axes = axes.flatten()\n",
    "\n",
    "    for ax, preds, title in zip(axes[:2], [train_preds, test_preds], ['Train', 'Test']):\n",
    "        sns.heatmap(preds[model_names].corr(), ax=ax, annot=True, linewidths=.5, cmap='GnBu')\n",
    "        ax.set_title(title)\n",
    "        ax.tick_params(axis='y', labelrotation=0)\n",
    "    ax.yaxis.set_visible(False)\n",
    "\n",
    "    target_corr = train_preds.corr()[['target']]\n",
    "    sns.heatmap(target_corr[:-1], ax=axes[2], annot=True, linewidths=.5)\n",
    "    axes[2].tick_params(axis='y', labelrotation=0)    \n",
    "    \n",
    "    comb_corr = comb_preds.corr()[['target']]\n",
    "    sns.heatmap(comb_corr[1:], ax=axes[3], annot=True, linewidths=.5, cmap='viridis')\n",
    "    axes[3].tick_params(axis='y', labelrotation=0)        \n",
    "    # axes[3].axis(\"off\")\n",
    "    \n",
    "    return train_preds, test_preds, comb_preds"
   ]
  },
  {
   "cell_type": "markdown",
   "metadata": {},
   "source": [
    "Функция обучения моделей XGBoost и LightGBM с заданными параметрами (для оптимизации):"
   ]
  },
  {
   "cell_type": "code",
   "execution_count": 27,
   "metadata": {},
   "outputs": [],
   "source": [
    "def boost_optimize_params(max_depth, min_child_weights, colsample_bytree):\n",
    "\n",
    "    params[\"max_depth\"] = int(round(max_depth))\n",
    "    params[\"min_child_weights\"] = int(round(min_child_weights))\n",
    "    params[\"colsample_bytree\"] = colsample_bytree\n",
    "\n",
    "    if boost_model == 'XGB':\n",
    "        model = xgb.train(\n",
    "            params=params,\n",
    "            dtrain=dtrain,\n",
    "            evals=[(dtrain, \"dtrain\"), (dvalid, \"dvalid\")],\n",
    "            early_stopping_rounds=EARLY_STOPPING_ROUNDS,\n",
    "            num_boost_round=N_ITERATIONS,\n",
    "            verbose_eval=VERBOSE,\n",
    "            maximize=True,\n",
    "        )\n",
    "        \n",
    "        score = roc_auc_score(y_valid, model.predict(dvalid))\n",
    "    \n",
    "    elif boost_model == 'LGBM':  \n",
    "        model = LGBMClassifier(**params)\n",
    "        model.fit(\n",
    "            X_train, y_train,\n",
    "            eval_set=[(X_train, y_train), (X_valid, y_valid)],\n",
    "            verbose=VERBOSE,\n",
    "            categorical_feature=cat_features\n",
    "        )        \n",
    "    \n",
    "        score = roc_auc_score(y_valid, model.predict_proba(X_valid)[:, 1])\n",
    "\n",
    "    print('\\n')\n",
    "    \n",
    "    return score"
   ]
  },
  {
   "cell_type": "markdown",
   "metadata": {},
   "source": [
    "### Поиск параметров и обучение классификатора"
   ]
  },
  {
   "cell_type": "markdown",
   "metadata": {},
   "source": [
    "Параметры и преобразование данных для модели:"
   ]
  },
  {
   "cell_type": "code",
   "execution_count": 28,
   "metadata": {},
   "outputs": [],
   "source": [
    "boost_model = 'LGBM'\n",
    "\n",
    "params = {\n",
    "    \"eval_metric\": \"AUC\",\n",
    "    \"loss_function\": \"Logloss\",\n",
    "    \"learning_rate\": 0.01,\n",
    "    \"thread_count\": 6,\n",
    "    \"early_stopping_rounds\": EARLY_STOPPING_ROUNDS,\n",
    "    \"n_estimators\": N_ITERATIONS,\n",
    "    \"seed\": 27\n",
    "}\n",
    "\n",
    "for df in X, X_train, X_valid, X_test:\n",
    "    df[cat_features] = df[cat_features].astype('category')"
   ]
  },
  {
   "cell_type": "markdown",
   "metadata": {},
   "source": [
    "Оптимальные значения параметров:"
   ]
  },
  {
   "cell_type": "code",
   "execution_count": 29,
   "metadata": {
    "scrolled": false
   },
   "outputs": [
    {
     "name": "stdout",
     "output_type": "stream",
     "text": [
      "{'params': {'colsample_bytree': 0.3551986056458608,\n",
      "            'max_depth': 6.866804031515304,\n",
      "            'min_child_weights': 5.2800525489629715},\n",
      " 'target': 0.7367323108020991}\n"
     ]
    }
   ],
   "source": [
    "pbounds = {\n",
    "    \"max_depth\": (3, 8),\n",
    "    \"min_child_weights\": (5, 500),\n",
    "    \"colsample_bytree\": (0.3, 0.9)\n",
    "}\n",
    "\n",
    "lgb_params_search = BayesianOptimization(\n",
    "    boost_optimize_params,\n",
    "    pbounds=pbounds,\n",
    "    random_state=SEED\n",
    ")\n",
    "\n",
    "lgb_params_search.maximize(\n",
    "    init_points=3, n_iter=5, acq='ei'\n",
    ")\n",
    "clear_output(wait=True)\n",
    "\n",
    "update_params(lgb_params_search)"
   ]
  },
  {
   "cell_type": "markdown",
   "metadata": {},
   "source": [
    "Кросс-валидация и метрики oof-предсказаний по фолдам:"
   ]
  },
  {
   "cell_type": "code",
   "execution_count": 30,
   "metadata": {},
   "outputs": [
    {
     "name": "stdout",
     "output_type": "stream",
     "text": [
      "Score by each fold: [0.74399, 0.72529, 0.73057, 0.72928, 0.71459]\n"
     ]
    }
   ],
   "source": [
    "lgb_estimators, lgb_oof_preds = boost_cross_validation(\n",
    "    params=params, X=X, y=y, cv=cv, categorical=cat_features\n",
    ")"
   ]
  },
  {
   "cell_type": "markdown",
   "metadata": {},
   "source": [
    "Метрика oof-предсказаний в общем:"
   ]
  },
  {
   "cell_type": "code",
   "execution_count": 31,
   "metadata": {},
   "outputs": [
    {
     "data": {
      "text/plain": [
       "0.7281452159696166"
      ]
     },
     "execution_count": 31,
     "metadata": {},
     "output_type": "execute_result"
    }
   ],
   "source": [
    "lgb_oof_score = roc_auc_score(y, lgb_oof_preds)\n",
    "lgb_oof_score"
   ]
  },
  {
   "cell_type": "markdown",
   "metadata": {},
   "source": [
    "## Получение предсказаний, анализ и выбор"
   ]
  },
  {
   "cell_type": "code",
   "execution_count": 32,
   "metadata": {
    "scrolled": false
   },
   "outputs": [
    {
     "data": {
      "image/png": "[encoded data removed]",
      "text/plain": [
       "<Figure size 1008x720 with 8 Axes>"
      ]
     },
     "metadata": {
      "needs_background": "light"
     },
     "output_type": "display_data"
    }
   ],
   "source": [
    "train_preds, test_preds, comb_preds = calc_and_analyze_preds(X, y, X_test, lgb_estimators)"
   ]
  },
  {
   "cell_type": "markdown",
   "metadata": {},
   "source": [
    "Выводы:\n",
    " - все модели близко коррелируют друг с другом и практически одинаково - с целевым признаком;\n",
    " - среднее арифметическое и среднее геометрическое предсказаний моделей коррелируют также одинаково;\n",
    " - метрика oof-предсказаний в общем не выбивается в сравнении с её значениями на отдельных фолдах.\n",
    " \n",
    "В качестве финального предсказания примем среднее арифметическое предсказаний на данных для теста."
   ]
  },
  {
   "cell_type": "markdown",
   "metadata": {},
   "source": [
    "## Сохранение результата"
   ]
  },
  {
   "cell_type": "code",
   "execution_count": 33,
   "metadata": {},
   "outputs": [
    {
     "data": {
      "text/html": [
       "<div>\n",
       "<style scoped>\n",
       "    .dataframe tbody tr th:only-of-type {\n",
       "        vertical-align: middle;\n",
       "    }\n",
       "\n",
       "    .dataframe tbody tr th {\n",
       "        vertical-align: top;\n",
       "    }\n",
       "\n",
       "    .dataframe thead th {\n",
       "        text-align: right;\n",
       "    }\n",
       "</style>\n",
       "<table border=\"1\" class=\"dataframe\">\n",
       "  <thead>\n",
       "    <tr style=\"text-align: right;\">\n",
       "      <th></th>\n",
       "      <th>APPLICATION_NUMBER</th>\n",
       "      <th>TARGET</th>\n",
       "    </tr>\n",
       "  </thead>\n",
       "  <tbody>\n",
       "    <tr>\n",
       "      <th>0</th>\n",
       "      <td>123724268</td>\n",
       "      <td>0</td>\n",
       "    </tr>\n",
       "    <tr>\n",
       "      <th>1</th>\n",
       "      <td>123456549</td>\n",
       "      <td>0</td>\n",
       "    </tr>\n",
       "    <tr>\n",
       "      <th>2</th>\n",
       "      <td>123428178</td>\n",
       "      <td>0</td>\n",
       "    </tr>\n",
       "    <tr>\n",
       "      <th>3</th>\n",
       "      <td>123619984</td>\n",
       "      <td>0</td>\n",
       "    </tr>\n",
       "    <tr>\n",
       "      <th>4</th>\n",
       "      <td>123671104</td>\n",
       "      <td>0</td>\n",
       "    </tr>\n",
       "  </tbody>\n",
       "</table>\n",
       "</div>"
      ],
      "text/plain": [
       "   APPLICATION_NUMBER  TARGET\n",
       "0           123724268       0\n",
       "1           123456549       0\n",
       "2           123428178       0\n",
       "3           123619984       0\n",
       "4           123671104       0"
      ]
     },
     "execution_count": 33,
     "metadata": {},
     "output_type": "execute_result"
    }
   ],
   "source": [
    "sample_submit = pd.read_csv('geekbrains-competitive-data-analysis/sample_submit.csv')\n",
    "sample_submit.head(n=5)"
   ]
  },
  {
   "cell_type": "code",
   "execution_count": 34,
   "metadata": {},
   "outputs": [
    {
     "data": {
      "text/html": [
       "<div>\n",
       "<style scoped>\n",
       "    .dataframe tbody tr th:only-of-type {\n",
       "        vertical-align: middle;\n",
       "    }\n",
       "\n",
       "    .dataframe tbody tr th {\n",
       "        vertical-align: top;\n",
       "    }\n",
       "\n",
       "    .dataframe thead th {\n",
       "        text-align: right;\n",
       "    }\n",
       "</style>\n",
       "<table border=\"1\" class=\"dataframe\">\n",
       "  <thead>\n",
       "    <tr style=\"text-align: right;\">\n",
       "      <th></th>\n",
       "      <th>TARGET</th>\n",
       "    </tr>\n",
       "    <tr>\n",
       "      <th>APPLICATION_NUMBER</th>\n",
       "      <th></th>\n",
       "    </tr>\n",
       "  </thead>\n",
       "  <tbody>\n",
       "    <tr>\n",
       "      <th>123724268</th>\n",
       "      <td>0.067549</td>\n",
       "    </tr>\n",
       "    <tr>\n",
       "      <th>123456549</th>\n",
       "      <td>0.241301</td>\n",
       "    </tr>\n",
       "    <tr>\n",
       "      <th>123428178</th>\n",
       "      <td>0.159637</td>\n",
       "    </tr>\n",
       "    <tr>\n",
       "      <th>123619984</th>\n",
       "      <td>0.084196</td>\n",
       "    </tr>\n",
       "    <tr>\n",
       "      <th>123671104</th>\n",
       "      <td>0.021426</td>\n",
       "    </tr>\n",
       "  </tbody>\n",
       "</table>\n",
       "</div>"
      ],
      "text/plain": [
       "                      TARGET\n",
       "APPLICATION_NUMBER          \n",
       "123724268           0.067549\n",
       "123456549           0.241301\n",
       "123428178           0.159637\n",
       "123619984           0.084196\n",
       "123671104           0.021426"
      ]
     },
     "execution_count": 34,
     "metadata": {},
     "output_type": "execute_result"
    }
   ],
   "source": [
    "sample_submit['TARGET'] = test_preds.mean(axis=1)\n",
    "sample_submit.set_index('APPLICATION_NUMBER', inplace=True, drop=True)\n",
    "sample_submit.head(n=5)"
   ]
  },
  {
   "cell_type": "code",
   "execution_count": 35,
   "metadata": {},
   "outputs": [],
   "source": [
    "sample_submit.to_csv('geekbrains-competitive-data-analysis/sample_submit42.csv')"
   ]
  },
  {
   "cell_type": "markdown",
   "metadata": {},
   "source": [
    "# 0.73216"
   ]
  }
 ],
 "metadata": {
  "kernelspec": {
   "display_name": "Python 3",
   "language": "python",
   "name": "python3"
  },
  "language_info": {
   "codemirror_mode": {
    "name": "ipython",
    "version": 3
   },
   "file_extension": ".py",
   "mimetype": "text/x-python",
   "name": "python",
   "nbconvert_exporter": "python",
   "pygments_lexer": "ipython3",
   "version": "3.7.3"
  }
 },
 "nbformat": 4,
 "nbformat_minor": 2
}
